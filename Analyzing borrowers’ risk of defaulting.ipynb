{
 "cells": [
  {
   "cell_type": "markdown",
   "metadata": {},
   "source": [
    "## Analyzing borrowers’ risk of defaulting\n",
    "\n",
    "Your project is to prepare a report for a bank’s loan division. You’ll need to find out if a customer’s marital status and number of children has an impact on whether they will default on a loan. The bank already has some data on customers’ credit worthiness.\n",
    "\n",
    "Your report will be considered when building a **credit scoring** of a potential customer. A ** credit scoring ** is used to evaluate the ability of a potential borrower to repay their loan."
   ]
  },
  {
   "cell_type": "markdown",
   "metadata": {},
   "source": [
    "### Step 1. Open the data file and have a look at the general information. "
   ]
  },
  {
   "cell_type": "code",
   "execution_count": 1,
   "metadata": {},
   "outputs": [
    {
     "name": "stdout",
     "output_type": "stream",
     "text": [
      "<class 'pandas.core.frame.DataFrame'>\n",
      "RangeIndex: 21525 entries, 0 to 21524\n",
      "Data columns (total 12 columns):\n",
      "children            21525 non-null int64\n",
      "days_employed       19351 non-null float64\n",
      "dob_years           21525 non-null int64\n",
      "education           21525 non-null object\n",
      "education_id        21525 non-null int64\n",
      "family_status       21525 non-null object\n",
      "family_status_id    21525 non-null int64\n",
      "gender              21525 non-null object\n",
      "income_type         21525 non-null object\n",
      "debt                21525 non-null int64\n",
      "total_income        19351 non-null float64\n",
      "purpose             21525 non-null object\n",
      "dtypes: float64(2), int64(5), object(5)\n",
      "memory usage: 2.0+ MB\n",
      "None\n"
     ]
    }
   ],
   "source": [
    "import pandas as pd\n",
    "df = pd.read_csv('/datasets/credit_scoring_eng.csv')\n",
    "print(df.info())\n"
   ]
  },
  {
   "cell_type": "markdown",
   "metadata": {},
   "source": [
    "### Conclusion"
   ]
  },
  {
   "cell_type": "markdown",
   "metadata": {},
   "source": [
    "I imported the Pandas library as pd, then read the .csv file using the '.read' method and saved it to the veriable 'df'. Then, i print the dataframe using the .info() method to see the general information."
   ]
  },
  {
   "cell_type": "markdown",
   "metadata": {},
   "source": [
    "### Step 2. Data preprocessing"
   ]
  },
  {
   "cell_type": "markdown",
   "metadata": {},
   "source": [
    "### Processing missing values"
   ]
  },
  {
   "cell_type": "code",
   "execution_count": 2,
   "metadata": {},
   "outputs": [
    {
     "name": "stdout",
     "output_type": "stream",
     "text": [
      "<class 'pandas.core.frame.DataFrame'>\n",
      "RangeIndex: 21525 entries, 0 to 21524\n",
      "Data columns (total 12 columns):\n",
      "children            21525 non-null int64\n",
      "days_employed       21525 non-null float64\n",
      "dob_years           21525 non-null int64\n",
      "education           21525 non-null object\n",
      "education_id        21525 non-null int64\n",
      "family_status       21525 non-null object\n",
      "family_status_id    21525 non-null int64\n",
      "gender              21525 non-null object\n",
      "income_type         21525 non-null object\n",
      "debt                21525 non-null int64\n",
      "total_income        21525 non-null float64\n",
      "purpose             21525 non-null object\n",
      "dtypes: float64(2), int64(5), object(5)\n",
      "memory usage: 2.0+ MB\n",
      "None\n"
     ]
    }
   ],
   "source": [
    "import pandas as pd\n",
    "df = pd.read_csv('/datasets/credit_scoring_eng.csv')\n",
    "df_null = df[df['days_employed'].isnull()]\n",
    "#print(df_null['dob_years'].value_counts())\n",
    "df['days_employed'] = df['days_employed'].fillna(value=df['days_employed'].mean())\n",
    "df['total_income'] = df['total_income'].fillna(value=df['total_income'].mean())\n",
    "print(df.info())\n"
   ]
  },
  {
   "cell_type": "markdown",
   "metadata": {},
   "source": [
    "### Conclusion"
   ]
  },
  {
   "cell_type": "markdown",
   "metadata": {},
   "source": [
    "After looking at the general info, I found that there were missing values in both the 'days_employed' and 'total_income' columns. I them created a table containing the rows with NAN values for 'days_employed' and 'total_income' to get a better understanding of which demographic had missing values for 'days_employed' and 'total_income'. There was a wide age range for individuals affected by the error that caused length of employment and income to be reported as NAN. Therefore, using the average time of empolyment and average income in place of those missing values will stil be a good approximation and not adversely affect the data. I used the .fillna() method to replace the missing values with thier respective means, and printed the general info to verify that all rows with missing values were filled. I would alert the developers of a possible bug in the employment reporting that is causing the time of employment and income not to be reported"
   ]
  },
  {
   "cell_type": "markdown",
   "metadata": {},
   "source": [
    "### Data type replacement"
   ]
  },
  {
   "cell_type": "code",
   "execution_count": 3,
   "metadata": {},
   "outputs": [
    {
     "name": "stdout",
     "output_type": "stream",
     "text": [
      "<class 'pandas.core.frame.DataFrame'>\n",
      "RangeIndex: 21525 entries, 0 to 21524\n",
      "Data columns (total 12 columns):\n",
      "children            21525 non-null int64\n",
      "days_employed       21525 non-null int64\n",
      "dob_years           21525 non-null int64\n",
      "education           21525 non-null object\n",
      "education_id        21525 non-null int64\n",
      "family_status       21525 non-null object\n",
      "family_status_id    21525 non-null int64\n",
      "gender              21525 non-null object\n",
      "income_type         21525 non-null object\n",
      "debt                21525 non-null int64\n",
      "total_income        21525 non-null int64\n",
      "purpose             21525 non-null object\n",
      "dtypes: int64(7), object(5)\n",
      "memory usage: 2.0+ MB\n",
      "None\n"
     ]
    }
   ],
   "source": [
    "import pandas as pd\n",
    "df = pd.read_csv('/datasets/credit_scoring_eng.csv')\n",
    "df_null = df[df['days_employed'].isnull()]\n",
    "#print(df_null['dob_years'].value_counts())\n",
    "df['days_employed'] = df['days_employed'].fillna(value=df['days_employed'].mean())\n",
    "df['total_income'] = df['total_income'].fillna(value=df['total_income'].mean())\n",
    "df['days_employed'] = df['days_employed'].astype(int)\n",
    "df['total_income'] = df['total_income'].astype(int)\n",
    "print(df.info())\n"
   ]
  },
  {
   "cell_type": "markdown",
   "metadata": {},
   "source": [
    "### Conclusion"
   ]
  },
  {
   "cell_type": "markdown",
   "metadata": {},
   "source": [
    " I used the .astype() method to change the Days Employed and Total income to integers to remove the floating point decimals. This makes the numbers easier to work with. You dont have to try to calculate "
   ]
  },
  {
   "cell_type": "markdown",
   "metadata": {},
   "source": [
    "### Processing duplicates"
   ]
  },
  {
   "cell_type": "code",
   "execution_count": 4,
   "metadata": {},
   "outputs": [
    {
     "name": "stdout",
     "output_type": "stream",
     "text": [
      "secondary education    15233\n",
      "masters degree          5260\n",
      "bachelor degree          744\n",
      "primary education        282\n",
      "academic degree            6\n",
      "Name: education, dtype: int64\n"
     ]
    }
   ],
   "source": [
    "import pandas as pd\n",
    "df = pd.read_csv('/datasets/credit_scoring_eng.csv')\n",
    "df_null = df[df['days_employed'].isnull()]\n",
    "#print(df_null['dob_years'].value_counts())\n",
    "df['days_employed'] = df['days_employed'].fillna(value=df['days_employed'].mean())\n",
    "df['total_income'] = df['total_income'].fillna(value=df['total_income'].mean())\n",
    "df['days_employed'] = df['days_employed'].astype(int)\n",
    "df['total_income'] = df['total_income'].astype(int)\n",
    "#print(df['education'].value_counts())\n",
    "#print(df['family_status'].value_counts())\n",
    "#print(df['gender'].value_counts())\n",
    "#print(df['income_type'].value_counts())\n",
    "#print(df['purpose'].value_counts())\n",
    "df['education'] = df['education'].str.lower()\n",
    "print(df['education'].value_counts())"
   ]
  },
  {
   "cell_type": "markdown",
   "metadata": {},
   "source": [
    "### Conclusion"
   ]
  },
  {
   "cell_type": "markdown",
   "metadata": {},
   "source": [
    "In this step i reviewed the value counts for each column containing objects. i found duplicates in the education column due to case-sensitivity. I converted the values of the education column to lower-case using the 'str.lower()' method. the other columns with object data types seem to be free of duplicates. This duplication could be from a case-sensitivity issue when collecting the data from customers. I would tell the department in-charge of collecting the data that we could add efficiency and accuracy to the data by making the text case sensitive. The 'purpose' column has alot of very simmilar values but that will be handled in the next step through stemming and lemmatization. "
   ]
  },
  {
   "cell_type": "markdown",
   "metadata": {},
   "source": [
    "### Lemmatization"
   ]
  },
  {
   "cell_type": "code",
   "execution_count": 5,
   "metadata": {},
   "outputs": [
    {
     "name": "stdout",
     "output_type": "stream",
     "text": [
      "house        9540\n",
      "education    5322\n",
      "car          4315\n",
      "wedding      2348\n",
      "Name: purpose, dtype: int64\n"
     ]
    }
   ],
   "source": [
    "import nltk\n",
    "from nltk.stem import WordNetLemmatizer\n",
    "wordnet_lemma = WordNetLemmatizer()\n",
    "from collections import Counter\n",
    "import pandas as pd\n",
    "df = pd.read_csv('/datasets/credit_scoring_eng.csv')\n",
    "df_null = df[df['days_employed'].isnull()]\n",
    "#print(df_null['dob_years'].value_counts())\n",
    "df['days_employed'] = df['days_employed'].fillna(value=df['days_employed'].mean())\n",
    "df['total_income'] = df['total_income'].fillna(value=df['total_income'].mean())\n",
    "df['days_employed'] = df['days_employed'].astype(int)\n",
    "df['total_income'] = df['total_income'].astype(int)\n",
    "#print(df['education'].value_counts())\n",
    "#print(df['family_status'].value_counts())\n",
    "#print(df['gender'].value_counts())\n",
    "#print(df['income_type'].value_counts())\n",
    "#print(df['purpose'].value_counts())\n",
    "df['education'] = df['education'].str.lower()\n",
    "def lemma_words(row):\n",
    "    return [wordnet_lemma.lemmatize(word, pos='n') for word in nltk.word_tokenize(row)]\n",
    "df['purpose'] = df['purpose'].apply(lemma_words)\n",
    "def lemma_category(row):\n",
    "    if 'car' in row:\n",
    "        return 'car'\n",
    "    if 'house' in row or 'estate' in row or 'property' in row:\n",
    "        return 'house'\n",
    "    if 'wedding' in row:\n",
    "        return 'wedding'\n",
    "    if 'education' in row or 'university':\n",
    "        return 'education'\n",
    "            \n",
    "df['purpose'] = df['purpose'].apply(lemma_category)\n",
    "print(df['purpose'].value_counts())"
   ]
  },
  {
   "cell_type": "markdown",
   "metadata": {},
   "source": [
    "### Conclusion"
   ]
  },
  {
   "cell_type": "markdown",
   "metadata": {},
   "source": [
    "I used the NLTK library to create a function the will lemmatize a string then used the .apply() method to lemmatize the data in the purpose column. Then I created a function using if rules to categorize the purpose columun to sort the data into 4 distinct categories. This simplifies allows us to categorize the data based on one of the for basic categories."
   ]
  },
  {
   "cell_type": "markdown",
   "metadata": {},
   "source": [
    "### Categorizing Data"
   ]
  },
  {
   "cell_type": "code",
   "execution_count": 6,
   "metadata": {},
   "outputs": [
    {
     "name": "stdout",
     "output_type": "stream",
     "text": [
      "       days_employed  debt  total_income    purpose\n",
      "0              -8437     0        253875      house\n",
      "1              -4024     0        112080        car\n",
      "2              -5623     0        145885      house\n",
      "3              -4124     0        267628  education\n",
      "4             340266     0        158616    wedding\n",
      "...              ...   ...           ...        ...\n",
      "19354          -4529     0        224791  education\n",
      "19355         343937     0        155999        car\n",
      "19356          -2113     1         89672      house\n",
      "19357          -3112     1        244093        car\n",
      "19358          -1984     0         82047        car\n",
      "\n",
      "[19359 rows x 4 columns]\n"
     ]
    }
   ],
   "source": [
    "import nltk\n",
    "from nltk.stem import WordNetLemmatizer\n",
    "wordnet_lemma = WordNetLemmatizer()\n",
    "from collections import Counter\n",
    "import pandas as pd\n",
    "df = pd.read_csv('/datasets/credit_scoring_eng.csv')\n",
    "df_null = df[df['days_employed'].isnull()]\n",
    "#print(df_null['dob_years'].value_counts())\n",
    "df['days_employed'] = df['days_employed'].fillna(value=df['days_employed'].mean())\n",
    "df['total_income'] = df['total_income'].fillna(value=df['total_income'].mean())\n",
    "df['days_employed'] = df['days_employed'].astype(int)\n",
    "df['total_income'] = df['total_income'].astype(int)\n",
    "#print(df['education'].value_counts())\n",
    "#print(df['family_status'].value_counts())\n",
    "#print(df['gender'].value_counts())\n",
    "#print(df['income_type'].value_counts())\n",
    "#print(df['purpose'].value_counts())\n",
    "df['education'] = df['education'].str.lower()\n",
    "def lemma_words(row):\n",
    "    return [wordnet_lemma.lemmatize(word, pos='n') for word in nltk.word_tokenize(row)]\n",
    "df['purpose'] = df['purpose'].apply(lemma_words)\n",
    "def lemma_category(row):\n",
    "    if 'car' in row:\n",
    "        return 'car'\n",
    "    if 'house' in row or 'estate' in row or 'property' in row:\n",
    "        return 'house'\n",
    "    if 'wedding' in row:\n",
    "        return 'wedding'\n",
    "    if 'education' in row or 'university':\n",
    "        return 'education'\n",
    "            \n",
    "df['purpose'] = df['purpose'].apply(lemma_category)\n",
    "loan_dict = df[['days_employed', 'debt', 'total_income', 'purpose']]\n",
    "loan_dict = loan_dict.drop_duplicates().reset_index(drop=True)\n",
    "print(loan_dict)\n",
    "\n",
    "\n"
   ]
  },
  {
   "cell_type": "markdown",
   "metadata": {},
   "source": [
    "### Conclusion"
   ]
  },
  {
   "cell_type": "markdown",
   "metadata": {},
   "source": [
    "In this step i made a dictionary containing what i felt to be the most important factores when considering loan repayment. i then drop all duplicate entries to make the data more unique."
   ]
  },
  {
   "cell_type": "markdown",
   "metadata": {},
   "source": [
    "### Step 3. Answer these questions"
   ]
  },
  {
   "cell_type": "markdown",
   "metadata": {},
   "source": [
    "- Is there a relation between having kids and repaying a loan on time?"
   ]
  },
  {
   "cell_type": "code",
   "execution_count": 7,
   "metadata": {},
   "outputs": [
    {
     "name": "stdout",
     "output_type": "stream",
     "text": [
      "People with no children default on their loans 7.51% of the time\n",
      "People with one child default on their loans 9.22% of the time\n",
      "People with two children default on their loans 9.44% of the time\n",
      "People with three children default on their loans 8.18% of the time\n",
      "People with four children default on their loans 9.76% of the time\n",
      "People with twentry children default on their loans 10.53% of the time\n"
     ]
    }
   ],
   "source": [
    "import nltk\n",
    "from nltk.stem import WordNetLemmatizer\n",
    "wordnet_lemma = WordNetLemmatizer()\n",
    "from collections import Counter\n",
    "import pandas as pd\n",
    "df = pd.read_csv('/datasets/credit_scoring_eng.csv')\n",
    "df_null = df[df['days_employed'].isnull()]\n",
    "#print(df_null['dob_years'].value_counts())\n",
    "df['days_employed'] = df['days_employed'].fillna(value=df['days_employed'].mean())\n",
    "df['total_income'] = df['total_income'].fillna(value=df['total_income'].mean())\n",
    "df['days_employed'] = df['days_employed'].astype(int)\n",
    "df['total_income'] = df['total_income'].astype(int)\n",
    "#print(df['education'].value_counts())\n",
    "#print(df['family_status'].value_counts())\n",
    "#print(df['gender'].value_counts())\n",
    "#print(df['income_type'].value_counts())\n",
    "#print(df['purpose'].value_counts())\n",
    "df['education'] = df['education'].str.lower()\n",
    "def lemma_words(row):\n",
    "    return [wordnet_lemma.lemmatize(word, pos='n') for word in nltk.word_tokenize(row)]\n",
    "df['purpose'] = df['purpose'].apply(lemma_words)\n",
    "def lemma_category(row):\n",
    "    if 'car' in row:\n",
    "        return 'car'\n",
    "    if 'house' in row or 'estate' in row or 'property' in row:\n",
    "        return 'house'\n",
    "    if 'wedding' in row:\n",
    "        return 'wedding'\n",
    "    if 'education' in row or 'university':\n",
    "        return 'education'\n",
    "            \n",
    "df['purpose'] = df['purpose'].apply(lemma_category)\n",
    "#loan_dict = df[['days_employed', 'debt', 'total_income', 'purpose']]\n",
    "#loan_dict = loan_dict.drop_duplicates().reset_index(drop=True)\n",
    "#print(loan_dict)\n",
    "children_debt = df[['children', 'debt']].copy()\n",
    "#print(children_debt.groupby('children'))\n",
    "def children_debt_func(row):\n",
    "    children = row['children']\n",
    "    debt = row['debt']\n",
    "    if children == 0:\n",
    "        if debt == 0:\n",
    "            return '0_children_paid'\n",
    "    if children == 0: \n",
    "        if debt == 1:\n",
    "            return '0_children_unpaid'\n",
    "    if children == 1:\n",
    "        if debt == 0:\n",
    "            return '1_children_paid'\n",
    "    if children == 1:\n",
    "        if debt == 1:\n",
    "            return '1_children_unpaid'\n",
    "    if children == 2: \n",
    "        if debt == 0:\n",
    "            return '2_children_paid'\n",
    "    if children == 2: \n",
    "        if debt == 1:\n",
    "            return '2_children_unpaid'\n",
    "    if children == 3:\n",
    "        if debt == 0:\n",
    "            return '3_children_paid'\n",
    "    if children == 3: \n",
    "        if debt == 1:\n",
    "            return '3_children_unpaid'\n",
    "    if children == 4:\n",
    "        if debt == 0:\n",
    "            return '4_children_paid'\n",
    "    if children == 4: \n",
    "        if debt == 1:\n",
    "            return '4_children_unpaid'\n",
    "    if children == 5:\n",
    "        if debt == 0:\n",
    "            return '5_children_paid'\n",
    "    if children == 5: \n",
    "        if debt == 1:\n",
    "            return '5_children_unpaid'\n",
    "    if children == 20: \n",
    "        if debt == 0:\n",
    "            return '20_children_paid'\n",
    "    if children == 20: \n",
    "        if debt == 1:\n",
    "            return '20_children_unpaid'\n",
    "children_debt['children_debt_group'] = children_debt.apply(children_debt_func, axis=1)\n",
    "children_debt = children_debt.dropna()\n",
    "children_debt = children_debt['children_debt_group'].value_counts()\n",
    "zero_children_total = children_debt['0_children_unpaid'] + children_debt['0_children_paid']\n",
    "zero_children_def_rate = children_debt['0_children_unpaid'] / zero_children_total\n",
    "one_children_total = children_debt['1_children_unpaid'] + children_debt['1_children_paid']\n",
    "one_children_def_rate = children_debt['1_children_unpaid'] / one_children_total\n",
    "two_children_total = children_debt['2_children_unpaid'] + children_debt['2_children_paid']\n",
    "two_children_def_rate = children_debt['2_children_unpaid'] / two_children_total\n",
    "three_children_total = children_debt['3_children_unpaid'] + children_debt['3_children_paid']\n",
    "three_children_def_rate = children_debt['3_children_unpaid'] / three_children_total\n",
    "four_children_total = children_debt['4_children_unpaid'] + children_debt['4_children_paid']\n",
    "four_children_def_rate = children_debt['4_children_unpaid'] / four_children_total\n",
    "#five_children_total = children_debt['5_children_unpaid'] + children_debt['5_children_paid']\n",
    "#five_children_def_rate = children_debt['5_children_unpaid'] / five_children_total\n",
    "#there were only 9 indiviuals in the data set with 5 children so I excluded them\n",
    "twenty_children_total = children_debt['20_children_unpaid'] + children_debt['20_children_paid']\n",
    "twenty_children_def_rate = children_debt['20_children_unpaid'] / twenty_children_total\n",
    "print('People with no children default on their loans {:.2%} of the time'.format(zero_children_def_rate))\n",
    "print('People with one child default on their loans {:.2%} of the time'.format(one_children_def_rate))\n",
    "print('People with two children default on their loans {:.2%} of the time'.format(two_children_def_rate))\n",
    "print('People with three children default on their loans {:.2%} of the time'.format(three_children_def_rate))\n",
    "print('People with four children default on their loans {:.2%} of the time'.format(four_children_def_rate))\n",
    "print('People with twentry children default on their loans {:.2%} of the time'.format(twenty_children_def_rate))"
   ]
  },
  {
   "cell_type": "markdown",
   "metadata": {},
   "source": [
    "### Conclusion"
   ]
  },
  {
   "cell_type": "markdown",
   "metadata": {},
   "source": [
    "For this question i seperated each entry by the amount of children they had, then i further seperated the data by thier loan status (paid or unpaid). Then I calculated the rate of default by dividing the number of unpaid loans by the total number of loans for each group. There is a 1.71% increase between the default rate of people with no children and those with one child. after that the rate does very slightly increase as the amount of children increases (with the exception of three children). In my opinion there is a slight correlation between the amount of children you have and your abillity to pay your loan. There were only 9 entires in the data with 5 children and they had all paid their loans back on time so I excluded them from the calculations becasue the default rate was zero and the sample size was too small to be accurate."
   ]
  },
  {
   "cell_type": "markdown",
   "metadata": {},
   "source": [
    "- Is there a relation between marital status and repaying a loan on time?"
   ]
  },
  {
   "cell_type": "code",
   "execution_count": 8,
   "metadata": {},
   "outputs": [
    {
     "name": "stdout",
     "output_type": "stream",
     "text": [
      "Married people default on their loans 7.52% of the time\n",
      "People in a Civil Partnership default on thier loans 9.29% of the time\n",
      "Widowed people default on their loans 6.56% of the time\n",
      "Divorced people default on their loans 7.11% of the time\n",
      "Unmarried people default on their loans 9.74% of the time\n"
     ]
    }
   ],
   "source": [
    "import nltk\n",
    "from nltk.stem import WordNetLemmatizer\n",
    "wordnet_lemma = WordNetLemmatizer()\n",
    "from collections import Counter\n",
    "import pandas as pd\n",
    "df = pd.read_csv('/datasets/credit_scoring_eng.csv')\n",
    "df_null = df[df['days_employed'].isnull()]\n",
    "#print(df_null['dob_years'].value_counts())\n",
    "df['days_employed'] = df['days_employed'].fillna(value=df['days_employed'].mean())\n",
    "df['total_income'] = df['total_income'].fillna(value=df['total_income'].mean())\n",
    "df['days_employed'] = df['days_employed'].astype(int)\n",
    "df['total_income'] = df['total_income'].astype(int)\n",
    "#print(df['education'].value_counts())\n",
    "#print(df['family_status'].value_counts())\n",
    "#print(df['gender'].value_counts())\n",
    "#print(df['income_type'].value_counts())\n",
    "#print(df['purpose'].value_counts())\n",
    "df['education'] = df['education'].str.lower()\n",
    "def lemma_words(row):\n",
    "    return [wordnet_lemma.lemmatize(word, pos='n') for word in nltk.word_tokenize(row)]\n",
    "df['purpose'] = df['purpose'].apply(lemma_words)\n",
    "def lemma_category(row):\n",
    "    if 'car' in row:\n",
    "        return 'car'\n",
    "    if 'house' in row or 'estate' in row or 'property' in row:\n",
    "        return 'house'\n",
    "    if 'wedding' in row:\n",
    "        return 'wedding'\n",
    "    if 'education' in row or 'university':\n",
    "        return 'education'\n",
    "            \n",
    "df['purpose'] = df['purpose'].apply(lemma_category)\n",
    "marital_debt = df[['family_status', 'family_status_id', 'debt']].copy()\n",
    "marital_debt_count = marital_debt['family_status'].value_counts()\n",
    "married_total = marital_debt_count['married']\n",
    "civil_total = marital_debt_count['civil partnership']\n",
    "widow_total = marital_debt_count['widow / widower']\n",
    "divorced_total = marital_debt_count['divorced']\n",
    "unmarried_total = marital_debt_count['unmarried']\n",
    "#marital_debt_count\n",
    "def marital_debt_func(row):\n",
    "    status = row['family_status_id']\n",
    "    debt = row['debt']\n",
    "    if status == 0:\n",
    "        if debt == 0:\n",
    "            return 'married_paid'\n",
    "    if status == 0:\n",
    "        if debt == 1:\n",
    "            return 'married_unpaid'\n",
    "    if status == 1:\n",
    "        if debt == 0:\n",
    "            return 'civil_paid'\n",
    "    if status == 1:\n",
    "        if debt == 1:\n",
    "            return 'civil_unpaid'\n",
    "    if status == 2:\n",
    "        if debt == 0:\n",
    "            return 'widow_paid'\n",
    "    if status == 2:\n",
    "        if debt == 1:\n",
    "            return 'widow_unpaid'\n",
    "    if status == 3:\n",
    "        if debt == 0:\n",
    "            return 'divorced_paid'\n",
    "    if status == 3:\n",
    "        if debt == 1:\n",
    "            return 'divorced_unpaid'\n",
    "    if status == 4:\n",
    "        if debt == 0:\n",
    "            return 'unmarried_paid'\n",
    "    if status == 4:\n",
    "        if debt == 1:\n",
    "            return 'unmarried_unpaid'\n",
    "marital_debt['marital_debt_group'] = marital_debt.apply(marital_debt_func, axis=1)\n",
    "marital_debt_group_counts = marital_debt['marital_debt_group'].value_counts()\n",
    "print('Married people default on their loans {:.2%} of the time'.format(marital_debt_group_counts['married_unpaid'] / married_total))\n",
    "print('People in a Civil Partnership default on thier loans {:.2%} of the time'.format(marital_debt_group_counts['civil_unpaid'] / civil_total))\n",
    "print('Widowed people default on their loans {:.2%} of the time'.format(marital_debt_group_counts['widow_unpaid'] / widow_total))\n",
    "print('Divorced people default on their loans {:.2%} of the time'.format(marital_debt_group_counts['divorced_unpaid'] / divorced_total))\n",
    "print('Unmarried people default on their loans {:.2%} of the time'.format(marital_debt_group_counts['unmarried_unpaid'] / unmarried_total))"
   ]
  },
  {
   "cell_type": "markdown",
   "metadata": {},
   "source": [
    "### Conclusion"
   ]
  },
  {
   "cell_type": "markdown",
   "metadata": {},
   "source": [
    "To find the correlation between marital status and loan repayment i used the same tatic that i did with number of children, I calculated a default rate for each group. I found that married, widowed, and divorced people default on thier loans at a lower rate than those that are unmarried or in a civil partnership. This could be due to multiple factors, such as people that are married, widowed, and divorced could have more savings to pay towards a loan if need be, and/or more financial stabillity due to shared, inherited, or transferred wealth. Whereas those that are unmarried or in a civil partnership tend not to have a financial partner and dont have the stabillity of those that do, and tend to be younger and have not had the time to amass the same amount of wealth."
   ]
  },
  {
   "cell_type": "markdown",
   "metadata": {},
   "source": [
    "- Is there a relation between income level and repaying a loan on time?"
   ]
  },
  {
   "cell_type": "code",
   "execution_count": 9,
   "metadata": {},
   "outputs": [
    {
     "name": "stdout",
     "output_type": "stream",
     "text": [
      "People with low income default on their loans 7.93% of the time\n",
      "People with medium income default on their loans 8.62% of the time\n",
      "People with high income default on their loans 7.17% of the time\n"
     ]
    }
   ],
   "source": [
    "import nltk\n",
    "from nltk.stem import WordNetLemmatizer\n",
    "wordnet_lemma = WordNetLemmatizer()\n",
    "from collections import Counter\n",
    "import pandas as pd\n",
    "df = pd.read_csv('/datasets/credit_scoring_eng.csv')\n",
    "df_null = df[df['days_employed'].isnull()]\n",
    "#print(df_null['dob_years'].value_counts())\n",
    "df['days_employed'] = df['days_employed'].fillna(value=df['days_employed'].mean())\n",
    "df['total_income'] = df['total_income'].fillna(value=df['total_income'].mean())\n",
    "df['days_employed'] = df['days_employed'].astype(int)\n",
    "df['total_income'] = df['total_income'].astype(int)\n",
    "#print(df['education'].value_counts())\n",
    "#print(df['family_status'].value_counts())\n",
    "#print(df['gender'].value_counts())\n",
    "#print(df['income_type'].value_counts())\n",
    "#print(df['purpose'].value_counts())\n",
    "df['education'] = df['education'].str.lower()\n",
    "def lemma_words(row):\n",
    "    return [wordnet_lemma.lemmatize(word, pos='n') for word in nltk.word_tokenize(row)]\n",
    "df['purpose'] = df['purpose'].apply(lemma_words)\n",
    "def lemma_category(row):\n",
    "    if 'car' in row:\n",
    "        return 'car'\n",
    "    if 'house' in row or 'estate' in row or 'property' in row:\n",
    "        return 'house'\n",
    "    if 'wedding' in row:\n",
    "        return 'wedding'\n",
    "    if 'education' in row or 'university':\n",
    "        return 'education'\n",
    "            \n",
    "df['purpose'] = df['purpose'].apply(lemma_category)\n",
    "#print(df['total_income'].sort_values().head(20).tail(20))\n",
    "income_description = df['total_income'].describe()\n",
    "low_income_threshold = income_description['25%']\n",
    "#mid_income_threshold = income_description['50%']\n",
    "high_income_threshold = income_description['75%']\n",
    "def income_debt_func(row):\n",
    "    income = row['total_income']\n",
    "    debt = row['debt']\n",
    "    if income <= low_income_threshold:\n",
    "        if debt == 0:\n",
    "            return 'low_income_paid'\n",
    "    if income <= low_income_threshold:\n",
    "        if debt == 1:\n",
    "            return 'low_income_unpaid'\n",
    "    if income <= high_income_threshold:\n",
    "        if debt == 0:\n",
    "            return 'mid_income_paid'\n",
    "    if income <= high_income_threshold:\n",
    "        if debt == 1:\n",
    "            return 'mid_income_unpaid'\n",
    "    if income >= high_income_threshold:\n",
    "        if debt == 0:\n",
    "            return 'high_income_paid'\n",
    "    if income >= high_income_threshold:\n",
    "        if debt == 1:\n",
    "            return 'high_income_unpaid'\n",
    "df['income_debt_group'] = df.apply(income_debt_func, axis=1)\n",
    "income_debt_groups = df['income_debt_group'].value_counts()\n",
    "low_income_def_rate = income_debt_groups['low_income_unpaid'] / (income_debt_groups['low_income_unpaid'] + income_debt_groups['low_income_paid'])\n",
    "mid_income_def_rate = income_debt_groups['mid_income_unpaid'] / (income_debt_groups['mid_income_unpaid'] + income_debt_groups['mid_income_paid'])\n",
    "high_income_def_rate = income_debt_groups['high_income_unpaid'] / (income_debt_groups['high_income_unpaid'] + income_debt_groups['high_income_paid'])\n",
    "print('People with low income default on their loans {:.2%} of the time'.format(low_income_def_rate))\n",
    "print('People with medium income default on their loans {:.2%} of the time'.format(mid_income_def_rate))\n",
    "print('People with high income default on their loans {:.2%} of the time'.format(high_income_def_rate))"
   ]
  },
  {
   "cell_type": "markdown",
   "metadata": {},
   "source": [
    "### Conclusion"
   ]
  },
  {
   "cell_type": "markdown",
   "metadata": {},
   "source": [
    "After calculating the default rate for the different income groups I found that the percentages of default were all within 1% of each other with no steady increase or decrease based on income. Therefore I do not see a correlation between level of income and abillity to repay a loan. This can be due to the bank not dispersing loans unless they fit within an individuals debt to income ratio."
   ]
  },
  {
   "cell_type": "markdown",
   "metadata": {},
   "source": [
    "- How do different loan purposes affect on-time repayment of the loan?"
   ]
  },
  {
   "cell_type": "code",
   "execution_count": 10,
   "metadata": {},
   "outputs": [
    {
     "name": "stdout",
     "output_type": "stream",
     "text": [
      "People who get a loan for real estate default 7.21% of the time\n",
      "People who get a loan for education default 8.72% of the time\n",
      "People who get a loan for a car default 9.34% of the time\n",
      "People who ghet a loan for a wedding default 7.92% of the time\n"
     ]
    }
   ],
   "source": [
    "import nltk\n",
    "from nltk.stem import WordNetLemmatizer\n",
    "wordnet_lemma = WordNetLemmatizer()\n",
    "from collections import Counter\n",
    "import pandas as pd\n",
    "df = pd.read_csv('/datasets/credit_scoring_eng.csv')\n",
    "df_null = df[df['days_employed'].isnull()]\n",
    "#print(df_null['dob_years'].value_counts())\n",
    "df['days_employed'] = df['days_employed'].fillna(value=df['days_employed'].mean())\n",
    "df['total_income'] = df['total_income'].fillna(value=df['total_income'].mean())\n",
    "df['days_employed'] = df['days_employed'].astype(int)\n",
    "df['total_income'] = df['total_income'].astype(int)\n",
    "#print(df['education'].value_counts())\n",
    "#print(df['family_status'].value_counts())\n",
    "#print(df['gender'].value_counts())\n",
    "#print(df['income_type'].value_counts())\n",
    "#print(df['purpose'].value_counts())\n",
    "df['education'] = df['education'].str.lower()\n",
    "def lemma_words(row):\n",
    "    return [wordnet_lemma.lemmatize(word, pos='n') for word in nltk.word_tokenize(row)]\n",
    "df['purpose'] = df['purpose'].apply(lemma_words)\n",
    "def lemma_category(row):\n",
    "    if 'car' in row:\n",
    "        return 'car'\n",
    "    if 'house' in row or 'estate' in row or 'property' in row:\n",
    "        return 'house'\n",
    "    if 'wedding' in row:\n",
    "        return 'wedding'\n",
    "    if 'education' in row or 'university':\n",
    "        return 'education'\n",
    "            \n",
    "df['purpose'] = df['purpose'].apply(lemma_category)\n",
    "purpose_counts = df['purpose'].value_counts()\n",
    "def purpose_debt_func(row):\n",
    "    purpose = row['purpose']\n",
    "    debt = row['debt']\n",
    "    if purpose == 'house':\n",
    "        if debt == 0:\n",
    "            return 'house_paid'\n",
    "    if purpose == 'house':\n",
    "        if debt == 1:\n",
    "            return 'house_unpaid'\n",
    "    if purpose == 'education':\n",
    "        if debt == 0:\n",
    "            return 'education_paid'\n",
    "    if purpose == 'education':\n",
    "        if debt == 1:\n",
    "            return 'education_unpaid'\n",
    "    if purpose == 'car':\n",
    "        if debt == 0:\n",
    "            return 'car_paid'\n",
    "    if purpose == 'car':\n",
    "        if debt == 1:\n",
    "            return 'car_unpaid'\n",
    "    if purpose == 'wedding':\n",
    "        if debt == 0:\n",
    "            return 'wedding_paid'\n",
    "    if purpose == 'wedding':\n",
    "        if debt == 1:\n",
    "            return 'wedding_unpaid'\n",
    "df['purpose_debt_group'] = df.apply(purpose_debt_func, axis=1)\n",
    "purpose_group_counts = df['purpose_debt_group'].value_counts()\n",
    "print('People who get a loan for real estate default {:.2%} of the time'.format(purpose_group_counts['house_unpaid'] / purpose_counts['house']))\n",
    "print('People who get a loan for education default {:.2%} of the time'.format(purpose_group_counts['education_unpaid'] / purpose_counts['education']))\n",
    "print('People who get a loan for a car default {:.2%} of the time'.format(purpose_group_counts['car_unpaid'] / purpose_counts['car']))\n",
    "print('People who ghet a loan for a wedding default {:.2%} of the time'.format(purpose_group_counts['wedding_unpaid'] / purpose_counts['wedding']))"
   ]
  },
  {
   "cell_type": "markdown",
   "metadata": {},
   "source": [
    "### Conclusion"
   ]
  },
  {
   "cell_type": "markdown",
   "metadata": {},
   "source": [
    "After calculating the default rate based on the purpose of the loan I found that the better default rate belonged to real estate and weddings. For real estate I found a deafut rate of 7.21% this lower defaut rate could be due to the loan payment replacing the rent payment an individual was already paying for residential properties, or the payment being covered in the rent paid by tenants in commercial and investment properties. For weddings the lower rate could be due to the added financial stabillity of a spouse. Vehicle loans are typically secured by assests that are worth less than the principal balance of the loan and are more subject to default. Education loans have a slightly hier rate of default, and this can be due to the demographic of those needing education loans (young, low income, unmarried)."
   ]
  }
 ],
 "metadata": {
  "kernelspec": {
   "display_name": "Python 3",
   "language": "python",
   "name": "python3"
  },
  "language_info": {
   "codemirror_mode": {
    "name": "ipython",
    "version": 3
   },
   "file_extension": ".py",
   "mimetype": "text/x-python",
   "name": "python",
   "nbconvert_exporter": "python",
   "pygments_lexer": "ipython3",
   "version": "3.7.6"
  }
 },
 "nbformat": 4,
 "nbformat_minor": 2
}
